{
 "cells": [
  {
   "cell_type": "code",
   "execution_count": 1,
   "id": "f9297a10",
   "metadata": {},
   "outputs": [],
   "source": [
    "import pandas as pd,numpy as np\n",
    "import re, os, sys, time, shutil\n",
    "from sklearn.linear_model import Ridge, ElasticNet, LinearRegression\n",
    "from sklearn.metrics import log_loss\n",
    "from xgboost import XGBRegressor\n",
    "from sklearn.ensemble import RandomForestRegressor\n",
    "from sklearn.model_selection import GridSearchCV, train_test_split\n",
    "from sklearn.pipeline import Pipeline"
   ]
  },
  {
   "cell_type": "markdown",
   "id": "e67255d5",
   "metadata": {},
   "source": [
    "# Project: Evaluate if deep learning can produce better results for regression\n"
   ]
  },
  {
   "cell_type": "markdown",
   "id": "f75f0d0b",
   "metadata": {},
   "source": [
    "Background: The company is trying to invest resources in Deep Learning as a way to upskill data scientists and improve model performance.  However, some are skeptical, and will want justification. "
   ]
  },
  {
   "cell_type": "markdown",
   "id": "466f24ed",
   "metadata": {},
   "source": [
    "KBQ1: What machine learning technique best tackles on regression based problem.\n",
    "\n",
    "KBQ2: Does a machine learning model for regression provide better results?"
   ]
  },
  {
   "cell_type": "markdown",
   "id": "6659261f",
   "metadata": {},
   "source": [
    "## KBQ1: What machine learning technique best tackles on regression based problem."
   ]
  },
  {
   "cell_type": "code",
   "execution_count": 2,
   "id": "db5860ce",
   "metadata": {},
   "outputs": [],
   "source": [
    "#First load test data\n",
    "mobilem = pd.read_csv(\"mobile/train.csv\")"
   ]
  },
  {
   "cell_type": "code",
   "execution_count": 3,
   "id": "aaaaaac2",
   "metadata": {},
   "outputs": [
    {
     "data": {
      "text/html": [
       "<div>\n",
       "<style scoped>\n",
       "    .dataframe tbody tr th:only-of-type {\n",
       "        vertical-align: middle;\n",
       "    }\n",
       "\n",
       "    .dataframe tbody tr th {\n",
       "        vertical-align: top;\n",
       "    }\n",
       "\n",
       "    .dataframe thead th {\n",
       "        text-align: right;\n",
       "    }\n",
       "</style>\n",
       "<table border=\"1\" class=\"dataframe\">\n",
       "  <thead>\n",
       "    <tr style=\"text-align: right;\">\n",
       "      <th></th>\n",
       "      <th>battery_power</th>\n",
       "      <th>blue</th>\n",
       "      <th>clock_speed</th>\n",
       "      <th>dual_sim</th>\n",
       "      <th>fc</th>\n",
       "      <th>four_g</th>\n",
       "      <th>int_memory</th>\n",
       "      <th>m_dep</th>\n",
       "      <th>mobile_wt</th>\n",
       "      <th>n_cores</th>\n",
       "      <th>...</th>\n",
       "      <th>px_height</th>\n",
       "      <th>px_width</th>\n",
       "      <th>ram</th>\n",
       "      <th>sc_h</th>\n",
       "      <th>sc_w</th>\n",
       "      <th>talk_time</th>\n",
       "      <th>three_g</th>\n",
       "      <th>touch_screen</th>\n",
       "      <th>wifi</th>\n",
       "      <th>price_range</th>\n",
       "    </tr>\n",
       "  </thead>\n",
       "  <tbody>\n",
       "    <tr>\n",
       "      <th>0</th>\n",
       "      <td>842</td>\n",
       "      <td>0</td>\n",
       "      <td>2.2</td>\n",
       "      <td>0</td>\n",
       "      <td>1</td>\n",
       "      <td>0</td>\n",
       "      <td>7</td>\n",
       "      <td>0.6</td>\n",
       "      <td>188</td>\n",
       "      <td>2</td>\n",
       "      <td>...</td>\n",
       "      <td>20</td>\n",
       "      <td>756</td>\n",
       "      <td>2549</td>\n",
       "      <td>9</td>\n",
       "      <td>7</td>\n",
       "      <td>19</td>\n",
       "      <td>0</td>\n",
       "      <td>0</td>\n",
       "      <td>1</td>\n",
       "      <td>1</td>\n",
       "    </tr>\n",
       "    <tr>\n",
       "      <th>1</th>\n",
       "      <td>1021</td>\n",
       "      <td>1</td>\n",
       "      <td>0.5</td>\n",
       "      <td>1</td>\n",
       "      <td>0</td>\n",
       "      <td>1</td>\n",
       "      <td>53</td>\n",
       "      <td>0.7</td>\n",
       "      <td>136</td>\n",
       "      <td>3</td>\n",
       "      <td>...</td>\n",
       "      <td>905</td>\n",
       "      <td>1988</td>\n",
       "      <td>2631</td>\n",
       "      <td>17</td>\n",
       "      <td>3</td>\n",
       "      <td>7</td>\n",
       "      <td>1</td>\n",
       "      <td>1</td>\n",
       "      <td>0</td>\n",
       "      <td>2</td>\n",
       "    </tr>\n",
       "    <tr>\n",
       "      <th>2</th>\n",
       "      <td>563</td>\n",
       "      <td>1</td>\n",
       "      <td>0.5</td>\n",
       "      <td>1</td>\n",
       "      <td>2</td>\n",
       "      <td>1</td>\n",
       "      <td>41</td>\n",
       "      <td>0.9</td>\n",
       "      <td>145</td>\n",
       "      <td>5</td>\n",
       "      <td>...</td>\n",
       "      <td>1263</td>\n",
       "      <td>1716</td>\n",
       "      <td>2603</td>\n",
       "      <td>11</td>\n",
       "      <td>2</td>\n",
       "      <td>9</td>\n",
       "      <td>1</td>\n",
       "      <td>1</td>\n",
       "      <td>0</td>\n",
       "      <td>2</td>\n",
       "    </tr>\n",
       "    <tr>\n",
       "      <th>3</th>\n",
       "      <td>615</td>\n",
       "      <td>1</td>\n",
       "      <td>2.5</td>\n",
       "      <td>0</td>\n",
       "      <td>0</td>\n",
       "      <td>0</td>\n",
       "      <td>10</td>\n",
       "      <td>0.8</td>\n",
       "      <td>131</td>\n",
       "      <td>6</td>\n",
       "      <td>...</td>\n",
       "      <td>1216</td>\n",
       "      <td>1786</td>\n",
       "      <td>2769</td>\n",
       "      <td>16</td>\n",
       "      <td>8</td>\n",
       "      <td>11</td>\n",
       "      <td>1</td>\n",
       "      <td>0</td>\n",
       "      <td>0</td>\n",
       "      <td>2</td>\n",
       "    </tr>\n",
       "    <tr>\n",
       "      <th>4</th>\n",
       "      <td>1821</td>\n",
       "      <td>1</td>\n",
       "      <td>1.2</td>\n",
       "      <td>0</td>\n",
       "      <td>13</td>\n",
       "      <td>1</td>\n",
       "      <td>44</td>\n",
       "      <td>0.6</td>\n",
       "      <td>141</td>\n",
       "      <td>2</td>\n",
       "      <td>...</td>\n",
       "      <td>1208</td>\n",
       "      <td>1212</td>\n",
       "      <td>1411</td>\n",
       "      <td>8</td>\n",
       "      <td>2</td>\n",
       "      <td>15</td>\n",
       "      <td>1</td>\n",
       "      <td>1</td>\n",
       "      <td>0</td>\n",
       "      <td>1</td>\n",
       "    </tr>\n",
       "  </tbody>\n",
       "</table>\n",
       "<p>5 rows × 21 columns</p>\n",
       "</div>"
      ],
      "text/plain": [
       "   battery_power  blue  clock_speed  dual_sim  fc  four_g  int_memory  m_dep  \\\n",
       "0            842     0          2.2         0   1       0           7    0.6   \n",
       "1           1021     1          0.5         1   0       1          53    0.7   \n",
       "2            563     1          0.5         1   2       1          41    0.9   \n",
       "3            615     1          2.5         0   0       0          10    0.8   \n",
       "4           1821     1          1.2         0  13       1          44    0.6   \n",
       "\n",
       "   mobile_wt  n_cores  ...  px_height  px_width   ram  sc_h  sc_w  talk_time  \\\n",
       "0        188        2  ...         20       756  2549     9     7         19   \n",
       "1        136        3  ...        905      1988  2631    17     3          7   \n",
       "2        145        5  ...       1263      1716  2603    11     2          9   \n",
       "3        131        6  ...       1216      1786  2769    16     8         11   \n",
       "4        141        2  ...       1208      1212  1411     8     2         15   \n",
       "\n",
       "   three_g  touch_screen  wifi  price_range  \n",
       "0        0             0     1            1  \n",
       "1        1             1     0            2  \n",
       "2        1             1     0            2  \n",
       "3        1             0     0            2  \n",
       "4        1             1     0            1  \n",
       "\n",
       "[5 rows x 21 columns]"
      ]
     },
     "execution_count": 3,
     "metadata": {},
     "output_type": "execute_result"
    }
   ],
   "source": [
    "mobilem.head()"
   ]
  },
  {
   "cell_type": "markdown",
   "id": "9efa50b8",
   "metadata": {},
   "source": [
    "Investigate the data"
   ]
  },
  {
   "cell_type": "code",
   "execution_count": 4,
   "id": "c1df7547",
   "metadata": {},
   "outputs": [
    {
     "name": "stderr",
     "output_type": "stream",
     "text": [
      "\n",
      "Bad key text.latex.preview in file /Users/aadejare/anaconda3/envs/dev/lib/python3.7/site-packages/matplotlib/mpl-data/stylelib/_classic_test.mplstyle, line 123 ('text.latex.preview : False')\n",
      "You probably need to get an updated matplotlibrc file from\n",
      "https://github.com/matplotlib/matplotlib/blob/v3.5.1/matplotlibrc.template\n",
      "or from the matplotlib source distribution\n",
      "\n",
      "Bad key mathtext.fallback_to_cm in file /Users/aadejare/anaconda3/envs/dev/lib/python3.7/site-packages/matplotlib/mpl-data/stylelib/_classic_test.mplstyle, line 155 ('mathtext.fallback_to_cm : True  # When True, use symbols from the Computer Modern')\n",
      "You probably need to get an updated matplotlibrc file from\n",
      "https://github.com/matplotlib/matplotlib/blob/v3.5.1/matplotlibrc.template\n",
      "or from the matplotlib source distribution\n",
      "\n",
      "Bad key savefig.jpeg_quality in file /Users/aadejare/anaconda3/envs/dev/lib/python3.7/site-packages/matplotlib/mpl-data/stylelib/_classic_test.mplstyle, line 418 ('savefig.jpeg_quality: 95       # when a jpeg is saved, the default quality parameter.')\n",
      "You probably need to get an updated matplotlibrc file from\n",
      "https://github.com/matplotlib/matplotlib/blob/v3.5.1/matplotlibrc.template\n",
      "or from the matplotlib source distribution\n",
      "\n",
      "Bad key keymap.all_axes in file /Users/aadejare/anaconda3/envs/dev/lib/python3.7/site-packages/matplotlib/mpl-data/stylelib/_classic_test.mplstyle, line 466 ('keymap.all_axes : a                 # enable all axes')\n",
      "You probably need to get an updated matplotlibrc file from\n",
      "https://github.com/matplotlib/matplotlib/blob/v3.5.1/matplotlibrc.template\n",
      "or from the matplotlib source distribution\n",
      "\n",
      "Bad key animation.avconv_path in file /Users/aadejare/anaconda3/envs/dev/lib/python3.7/site-packages/matplotlib/mpl-data/stylelib/_classic_test.mplstyle, line 477 ('animation.avconv_path: avconv     # Path to avconv binary. Without full path')\n",
      "You probably need to get an updated matplotlibrc file from\n",
      "https://github.com/matplotlib/matplotlib/blob/v3.5.1/matplotlibrc.template\n",
      "or from the matplotlib source distribution\n",
      "\n",
      "Bad key animation.avconv_args in file /Users/aadejare/anaconda3/envs/dev/lib/python3.7/site-packages/matplotlib/mpl-data/stylelib/_classic_test.mplstyle, line 479 ('animation.avconv_args:            # Additional arguments to pass to avconv')\n",
      "You probably need to get an updated matplotlibrc file from\n",
      "https://github.com/matplotlib/matplotlib/blob/v3.5.1/matplotlibrc.template\n",
      "or from the matplotlib source distribution\n"
     ]
    },
    {
     "data": {
      "text/plain": [
       "<AxesSubplot:ylabel='Frequency'>"
      ]
     },
     "execution_count": 4,
     "metadata": {},
     "output_type": "execute_result"
    },
    {
     "data": {
      "image/png": "[encoded data removed]",
      "text/plain": [
       "<Figure size 432x288 with 1 Axes>"
      ]
     },
     "metadata": {
      "needs_background": "light"
     },
     "output_type": "display_data"
    }
   ],
   "source": [
    "#See distribution of target varibale\n",
    "mobilem.price_range.plot(kind='hist')"
   ]
  },
  {
   "cell_type": "code",
   "execution_count": 5,
   "id": "a693c3c1",
   "metadata": {},
   "outputs": [
    {
     "data": {
      "text/html": [
       "<div>\n",
       "<style scoped>\n",
       "    .dataframe tbody tr th:only-of-type {\n",
       "        vertical-align: middle;\n",
       "    }\n",
       "\n",
       "    .dataframe tbody tr th {\n",
       "        vertical-align: top;\n",
       "    }\n",
       "\n",
       "    .dataframe thead th {\n",
       "        text-align: right;\n",
       "    }\n",
       "</style>\n",
       "<table border=\"1\" class=\"dataframe\">\n",
       "  <thead>\n",
       "    <tr style=\"text-align: right;\">\n",
       "      <th></th>\n",
       "      <th>battery_power</th>\n",
       "      <th>blue</th>\n",
       "      <th>clock_speed</th>\n",
       "      <th>dual_sim</th>\n",
       "      <th>fc</th>\n",
       "      <th>four_g</th>\n",
       "      <th>int_memory</th>\n",
       "      <th>m_dep</th>\n",
       "      <th>mobile_wt</th>\n",
       "      <th>n_cores</th>\n",
       "      <th>...</th>\n",
       "      <th>px_height</th>\n",
       "      <th>px_width</th>\n",
       "      <th>ram</th>\n",
       "      <th>sc_h</th>\n",
       "      <th>sc_w</th>\n",
       "      <th>talk_time</th>\n",
       "      <th>three_g</th>\n",
       "      <th>touch_screen</th>\n",
       "      <th>wifi</th>\n",
       "      <th>price_range</th>\n",
       "    </tr>\n",
       "  </thead>\n",
       "  <tbody>\n",
       "    <tr>\n",
       "      <th>count</th>\n",
       "      <td>2000.000000</td>\n",
       "      <td>2000.0000</td>\n",
       "      <td>2000.000000</td>\n",
       "      <td>2000.000000</td>\n",
       "      <td>2000.000000</td>\n",
       "      <td>2000.000000</td>\n",
       "      <td>2000.000000</td>\n",
       "      <td>2000.000000</td>\n",
       "      <td>2000.000000</td>\n",
       "      <td>2000.000000</td>\n",
       "      <td>...</td>\n",
       "      <td>2000.000000</td>\n",
       "      <td>2000.000000</td>\n",
       "      <td>2000.000000</td>\n",
       "      <td>2000.000000</td>\n",
       "      <td>2000.000000</td>\n",
       "      <td>2000.000000</td>\n",
       "      <td>2000.000000</td>\n",
       "      <td>2000.000000</td>\n",
       "      <td>2000.000000</td>\n",
       "      <td>2000.000000</td>\n",
       "    </tr>\n",
       "    <tr>\n",
       "      <th>mean</th>\n",
       "      <td>1238.518500</td>\n",
       "      <td>0.4950</td>\n",
       "      <td>1.522250</td>\n",
       "      <td>0.509500</td>\n",
       "      <td>4.309500</td>\n",
       "      <td>0.521500</td>\n",
       "      <td>32.046500</td>\n",
       "      <td>0.501750</td>\n",
       "      <td>140.249000</td>\n",
       "      <td>4.520500</td>\n",
       "      <td>...</td>\n",
       "      <td>645.108000</td>\n",
       "      <td>1251.515500</td>\n",
       "      <td>2124.213000</td>\n",
       "      <td>12.306500</td>\n",
       "      <td>5.767000</td>\n",
       "      <td>11.011000</td>\n",
       "      <td>0.761500</td>\n",
       "      <td>0.503000</td>\n",
       "      <td>0.507000</td>\n",
       "      <td>1.500000</td>\n",
       "    </tr>\n",
       "    <tr>\n",
       "      <th>std</th>\n",
       "      <td>439.418206</td>\n",
       "      <td>0.5001</td>\n",
       "      <td>0.816004</td>\n",
       "      <td>0.500035</td>\n",
       "      <td>4.341444</td>\n",
       "      <td>0.499662</td>\n",
       "      <td>18.145715</td>\n",
       "      <td>0.288416</td>\n",
       "      <td>35.399655</td>\n",
       "      <td>2.287837</td>\n",
       "      <td>...</td>\n",
       "      <td>443.780811</td>\n",
       "      <td>432.199447</td>\n",
       "      <td>1084.732044</td>\n",
       "      <td>4.213245</td>\n",
       "      <td>4.356398</td>\n",
       "      <td>5.463955</td>\n",
       "      <td>0.426273</td>\n",
       "      <td>0.500116</td>\n",
       "      <td>0.500076</td>\n",
       "      <td>1.118314</td>\n",
       "    </tr>\n",
       "    <tr>\n",
       "      <th>min</th>\n",
       "      <td>501.000000</td>\n",
       "      <td>0.0000</td>\n",
       "      <td>0.500000</td>\n",
       "      <td>0.000000</td>\n",
       "      <td>0.000000</td>\n",
       "      <td>0.000000</td>\n",
       "      <td>2.000000</td>\n",
       "      <td>0.100000</td>\n",
       "      <td>80.000000</td>\n",
       "      <td>1.000000</td>\n",
       "      <td>...</td>\n",
       "      <td>0.000000</td>\n",
       "      <td>500.000000</td>\n",
       "      <td>256.000000</td>\n",
       "      <td>5.000000</td>\n",
       "      <td>0.000000</td>\n",
       "      <td>2.000000</td>\n",
       "      <td>0.000000</td>\n",
       "      <td>0.000000</td>\n",
       "      <td>0.000000</td>\n",
       "      <td>0.000000</td>\n",
       "    </tr>\n",
       "    <tr>\n",
       "      <th>25%</th>\n",
       "      <td>851.750000</td>\n",
       "      <td>0.0000</td>\n",
       "      <td>0.700000</td>\n",
       "      <td>0.000000</td>\n",
       "      <td>1.000000</td>\n",
       "      <td>0.000000</td>\n",
       "      <td>16.000000</td>\n",
       "      <td>0.200000</td>\n",
       "      <td>109.000000</td>\n",
       "      <td>3.000000</td>\n",
       "      <td>...</td>\n",
       "      <td>282.750000</td>\n",
       "      <td>874.750000</td>\n",
       "      <td>1207.500000</td>\n",
       "      <td>9.000000</td>\n",
       "      <td>2.000000</td>\n",
       "      <td>6.000000</td>\n",
       "      <td>1.000000</td>\n",
       "      <td>0.000000</td>\n",
       "      <td>0.000000</td>\n",
       "      <td>0.750000</td>\n",
       "    </tr>\n",
       "    <tr>\n",
       "      <th>50%</th>\n",
       "      <td>1226.000000</td>\n",
       "      <td>0.0000</td>\n",
       "      <td>1.500000</td>\n",
       "      <td>1.000000</td>\n",
       "      <td>3.000000</td>\n",
       "      <td>1.000000</td>\n",
       "      <td>32.000000</td>\n",
       "      <td>0.500000</td>\n",
       "      <td>141.000000</td>\n",
       "      <td>4.000000</td>\n",
       "      <td>...</td>\n",
       "      <td>564.000000</td>\n",
       "      <td>1247.000000</td>\n",
       "      <td>2146.500000</td>\n",
       "      <td>12.000000</td>\n",
       "      <td>5.000000</td>\n",
       "      <td>11.000000</td>\n",
       "      <td>1.000000</td>\n",
       "      <td>1.000000</td>\n",
       "      <td>1.000000</td>\n",
       "      <td>1.500000</td>\n",
       "    </tr>\n",
       "    <tr>\n",
       "      <th>75%</th>\n",
       "      <td>1615.250000</td>\n",
       "      <td>1.0000</td>\n",
       "      <td>2.200000</td>\n",
       "      <td>1.000000</td>\n",
       "      <td>7.000000</td>\n",
       "      <td>1.000000</td>\n",
       "      <td>48.000000</td>\n",
       "      <td>0.800000</td>\n",
       "      <td>170.000000</td>\n",
       "      <td>7.000000</td>\n",
       "      <td>...</td>\n",
       "      <td>947.250000</td>\n",
       "      <td>1633.000000</td>\n",
       "      <td>3064.500000</td>\n",
       "      <td>16.000000</td>\n",
       "      <td>9.000000</td>\n",
       "      <td>16.000000</td>\n",
       "      <td>1.000000</td>\n",
       "      <td>1.000000</td>\n",
       "      <td>1.000000</td>\n",
       "      <td>2.250000</td>\n",
       "    </tr>\n",
       "    <tr>\n",
       "      <th>max</th>\n",
       "      <td>1998.000000</td>\n",
       "      <td>1.0000</td>\n",
       "      <td>3.000000</td>\n",
       "      <td>1.000000</td>\n",
       "      <td>19.000000</td>\n",
       "      <td>1.000000</td>\n",
       "      <td>64.000000</td>\n",
       "      <td>1.000000</td>\n",
       "      <td>200.000000</td>\n",
       "      <td>8.000000</td>\n",
       "      <td>...</td>\n",
       "      <td>1960.000000</td>\n",
       "      <td>1998.000000</td>\n",
       "      <td>3998.000000</td>\n",
       "      <td>19.000000</td>\n",
       "      <td>18.000000</td>\n",
       "      <td>20.000000</td>\n",
       "      <td>1.000000</td>\n",
       "      <td>1.000000</td>\n",
       "      <td>1.000000</td>\n",
       "      <td>3.000000</td>\n",
       "    </tr>\n",
       "  </tbody>\n",
       "</table>\n",
       "<p>8 rows × 21 columns</p>\n",
       "</div>"
      ],
      "text/plain": [
       "       battery_power       blue  clock_speed     dual_sim           fc  \\\n",
       "count    2000.000000  2000.0000  2000.000000  2000.000000  2000.000000   \n",
       "mean     1238.518500     0.4950     1.522250     0.509500     4.309500   \n",
       "std       439.418206     0.5001     0.816004     0.500035     4.341444   \n",
       "min       501.000000     0.0000     0.500000     0.000000     0.000000   \n",
       "25%       851.750000     0.0000     0.700000     0.000000     1.000000   \n",
       "50%      1226.000000     0.0000     1.500000     1.000000     3.000000   \n",
       "75%      1615.250000     1.0000     2.200000     1.000000     7.000000   \n",
       "max      1998.000000     1.0000     3.000000     1.000000    19.000000   \n",
       "\n",
       "            four_g   int_memory        m_dep    mobile_wt      n_cores  ...  \\\n",
       "count  2000.000000  2000.000000  2000.000000  2000.000000  2000.000000  ...   \n",
       "mean      0.521500    32.046500     0.501750   140.249000     4.520500  ...   \n",
       "std       0.499662    18.145715     0.288416    35.399655     2.287837  ...   \n",
       "min       0.000000     2.000000     0.100000    80.000000     1.000000  ...   \n",
       "25%       0.000000    16.000000     0.200000   109.000000     3.000000  ...   \n",
       "50%       1.000000    32.000000     0.500000   141.000000     4.000000  ...   \n",
       "75%       1.000000    48.000000     0.800000   170.000000     7.000000  ...   \n",
       "max       1.000000    64.000000     1.000000   200.000000     8.000000  ...   \n",
       "\n",
       "         px_height     px_width          ram         sc_h         sc_w  \\\n",
       "count  2000.000000  2000.000000  2000.000000  2000.000000  2000.000000   \n",
       "mean    645.108000  1251.515500  2124.213000    12.306500     5.767000   \n",
       "std     443.780811   432.199447  1084.732044     4.213245     4.356398   \n",
       "min       0.000000   500.000000   256.000000     5.000000     0.000000   \n",
       "25%     282.750000   874.750000  1207.500000     9.000000     2.000000   \n",
       "50%     564.000000  1247.000000  2146.500000    12.000000     5.000000   \n",
       "75%     947.250000  1633.000000  3064.500000    16.000000     9.000000   \n",
       "max    1960.000000  1998.000000  3998.000000    19.000000    18.000000   \n",
       "\n",
       "         talk_time      three_g  touch_screen         wifi  price_range  \n",
       "count  2000.000000  2000.000000   2000.000000  2000.000000  2000.000000  \n",
       "mean     11.011000     0.761500      0.503000     0.507000     1.500000  \n",
       "std       5.463955     0.426273      0.500116     0.500076     1.118314  \n",
       "min       2.000000     0.000000      0.000000     0.000000     0.000000  \n",
       "25%       6.000000     1.000000      0.000000     0.000000     0.750000  \n",
       "50%      11.000000     1.000000      1.000000     1.000000     1.500000  \n",
       "75%      16.000000     1.000000      1.000000     1.000000     2.250000  \n",
       "max      20.000000     1.000000      1.000000     1.000000     3.000000  \n",
       "\n",
       "[8 rows x 21 columns]"
      ]
     },
     "execution_count": 5,
     "metadata": {},
     "output_type": "execute_result"
    }
   ],
   "source": [
    "mobilem.describe()"
   ]
  },
  {
   "cell_type": "code",
   "execution_count": 5,
   "id": "713b27d6",
   "metadata": {},
   "outputs": [
    {
     "data": {
      "text/plain": [
       "battery_power      int64\n",
       "blue               int64\n",
       "clock_speed      float64\n",
       "dual_sim           int64\n",
       "fc                 int64\n",
       "four_g             int64\n",
       "int_memory         int64\n",
       "m_dep            float64\n",
       "mobile_wt          int64\n",
       "n_cores            int64\n",
       "pc                 int64\n",
       "px_height          int64\n",
       "px_width           int64\n",
       "ram                int64\n",
       "sc_h               int64\n",
       "sc_w               int64\n",
       "talk_time          int64\n",
       "three_g            int64\n",
       "touch_screen       int64\n",
       "wifi               int64\n",
       "price_range        int64\n",
       "dtype: object"
      ]
     },
     "execution_count": 5,
     "metadata": {},
     "output_type": "execute_result"
    }
   ],
   "source": [
    "mobilem.dtypes"
   ]
  },
  {
   "cell_type": "code",
   "execution_count": 6,
   "id": "ce1a353f",
   "metadata": {},
   "outputs": [
    {
     "data": {
      "text/plain": [
       "(2000, 21)"
      ]
     },
     "execution_count": 6,
     "metadata": {},
     "output_type": "execute_result"
    }
   ],
   "source": [
    "mobilem.shape"
   ]
  },
  {
   "cell_type": "code",
   "execution_count": 7,
   "id": "93c541a5",
   "metadata": {},
   "outputs": [
    {
     "data": {
      "text/plain": [
       "battery_power    0\n",
       "blue             0\n",
       "clock_speed      0\n",
       "dual_sim         0\n",
       "fc               0\n",
       "four_g           0\n",
       "int_memory       0\n",
       "m_dep            0\n",
       "mobile_wt        0\n",
       "n_cores          0\n",
       "pc               0\n",
       "px_height        0\n",
       "px_width         0\n",
       "ram              0\n",
       "sc_h             0\n",
       "sc_w             0\n",
       "talk_time        0\n",
       "three_g          0\n",
       "touch_screen     0\n",
       "wifi             0\n",
       "price_range      0\n",
       "dtype: int64"
      ]
     },
     "execution_count": 7,
     "metadata": {},
     "output_type": "execute_result"
    }
   ],
   "source": [
    "mobilem.isna().sum()"
   ]
  },
  {
   "cell_type": "code",
   "execution_count": null,
   "id": "015d2955",
   "metadata": {},
   "outputs": [],
   "source": []
  },
  {
   "cell_type": "code",
   "execution_count": 11,
   "id": "0548126a",
   "metadata": {},
   "outputs": [],
   "source": [
    "#These are technically categories\n",
    "cat_mobile = ['blue','four_g','three_g','touch_screen','wifi','dual_sim', 'price_range'] "
   ]
  },
  {
   "cell_type": "code",
   "execution_count": 10,
   "id": "67027a9f",
   "metadata": {},
   "outputs": [
    {
     "data": {
      "text/html": [
       "<div>\n",
       "<style scoped>\n",
       "    .dataframe tbody tr th:only-of-type {\n",
       "        vertical-align: middle;\n",
       "    }\n",
       "\n",
       "    .dataframe tbody tr th {\n",
       "        vertical-align: top;\n",
       "    }\n",
       "\n",
       "    .dataframe thead th {\n",
       "        text-align: right;\n",
       "    }\n",
       "</style>\n",
       "<table border=\"1\" class=\"dataframe\">\n",
       "  <thead>\n",
       "    <tr style=\"text-align: right;\">\n",
       "      <th></th>\n",
       "      <th>battery_power</th>\n",
       "      <th>clock_speed</th>\n",
       "      <th>fc</th>\n",
       "      <th>int_memory</th>\n",
       "      <th>m_dep</th>\n",
       "      <th>mobile_wt</th>\n",
       "      <th>n_cores</th>\n",
       "      <th>pc</th>\n",
       "      <th>px_height</th>\n",
       "      <th>px_width</th>\n",
       "      <th>ram</th>\n",
       "      <th>sc_h</th>\n",
       "      <th>sc_w</th>\n",
       "      <th>talk_time</th>\n",
       "    </tr>\n",
       "  </thead>\n",
       "  <tbody>\n",
       "    <tr>\n",
       "      <th>count</th>\n",
       "      <td>2000.000000</td>\n",
       "      <td>2000.000000</td>\n",
       "      <td>2000.000000</td>\n",
       "      <td>2000.000000</td>\n",
       "      <td>2000.000000</td>\n",
       "      <td>2000.000000</td>\n",
       "      <td>2000.000000</td>\n",
       "      <td>2000.000000</td>\n",
       "      <td>2000.000000</td>\n",
       "      <td>2000.000000</td>\n",
       "      <td>2000.000000</td>\n",
       "      <td>2000.000000</td>\n",
       "      <td>2000.000000</td>\n",
       "      <td>2000.000000</td>\n",
       "    </tr>\n",
       "    <tr>\n",
       "      <th>mean</th>\n",
       "      <td>1238.518500</td>\n",
       "      <td>1.522250</td>\n",
       "      <td>4.309500</td>\n",
       "      <td>32.046500</td>\n",
       "      <td>0.501750</td>\n",
       "      <td>140.249000</td>\n",
       "      <td>4.520500</td>\n",
       "      <td>9.916500</td>\n",
       "      <td>645.108000</td>\n",
       "      <td>1251.515500</td>\n",
       "      <td>2124.213000</td>\n",
       "      <td>12.306500</td>\n",
       "      <td>5.767000</td>\n",
       "      <td>11.011000</td>\n",
       "    </tr>\n",
       "    <tr>\n",
       "      <th>std</th>\n",
       "      <td>439.418206</td>\n",
       "      <td>0.816004</td>\n",
       "      <td>4.341444</td>\n",
       "      <td>18.145715</td>\n",
       "      <td>0.288416</td>\n",
       "      <td>35.399655</td>\n",
       "      <td>2.287837</td>\n",
       "      <td>6.064315</td>\n",
       "      <td>443.780811</td>\n",
       "      <td>432.199447</td>\n",
       "      <td>1084.732044</td>\n",
       "      <td>4.213245</td>\n",
       "      <td>4.356398</td>\n",
       "      <td>5.463955</td>\n",
       "    </tr>\n",
       "    <tr>\n",
       "      <th>min</th>\n",
       "      <td>501.000000</td>\n",
       "      <td>0.500000</td>\n",
       "      <td>0.000000</td>\n",
       "      <td>2.000000</td>\n",
       "      <td>0.100000</td>\n",
       "      <td>80.000000</td>\n",
       "      <td>1.000000</td>\n",
       "      <td>0.000000</td>\n",
       "      <td>0.000000</td>\n",
       "      <td>500.000000</td>\n",
       "      <td>256.000000</td>\n",
       "      <td>5.000000</td>\n",
       "      <td>0.000000</td>\n",
       "      <td>2.000000</td>\n",
       "    </tr>\n",
       "    <tr>\n",
       "      <th>25%</th>\n",
       "      <td>851.750000</td>\n",
       "      <td>0.700000</td>\n",
       "      <td>1.000000</td>\n",
       "      <td>16.000000</td>\n",
       "      <td>0.200000</td>\n",
       "      <td>109.000000</td>\n",
       "      <td>3.000000</td>\n",
       "      <td>5.000000</td>\n",
       "      <td>282.750000</td>\n",
       "      <td>874.750000</td>\n",
       "      <td>1207.500000</td>\n",
       "      <td>9.000000</td>\n",
       "      <td>2.000000</td>\n",
       "      <td>6.000000</td>\n",
       "    </tr>\n",
       "    <tr>\n",
       "      <th>50%</th>\n",
       "      <td>1226.000000</td>\n",
       "      <td>1.500000</td>\n",
       "      <td>3.000000</td>\n",
       "      <td>32.000000</td>\n",
       "      <td>0.500000</td>\n",
       "      <td>141.000000</td>\n",
       "      <td>4.000000</td>\n",
       "      <td>10.000000</td>\n",
       "      <td>564.000000</td>\n",
       "      <td>1247.000000</td>\n",
       "      <td>2146.500000</td>\n",
       "      <td>12.000000</td>\n",
       "      <td>5.000000</td>\n",
       "      <td>11.000000</td>\n",
       "    </tr>\n",
       "    <tr>\n",
       "      <th>75%</th>\n",
       "      <td>1615.250000</td>\n",
       "      <td>2.200000</td>\n",
       "      <td>7.000000</td>\n",
       "      <td>48.000000</td>\n",
       "      <td>0.800000</td>\n",
       "      <td>170.000000</td>\n",
       "      <td>7.000000</td>\n",
       "      <td>15.000000</td>\n",
       "      <td>947.250000</td>\n",
       "      <td>1633.000000</td>\n",
       "      <td>3064.500000</td>\n",
       "      <td>16.000000</td>\n",
       "      <td>9.000000</td>\n",
       "      <td>16.000000</td>\n",
       "    </tr>\n",
       "    <tr>\n",
       "      <th>max</th>\n",
       "      <td>1998.000000</td>\n",
       "      <td>3.000000</td>\n",
       "      <td>19.000000</td>\n",
       "      <td>64.000000</td>\n",
       "      <td>1.000000</td>\n",
       "      <td>200.000000</td>\n",
       "      <td>8.000000</td>\n",
       "      <td>20.000000</td>\n",
       "      <td>1960.000000</td>\n",
       "      <td>1998.000000</td>\n",
       "      <td>3998.000000</td>\n",
       "      <td>19.000000</td>\n",
       "      <td>18.000000</td>\n",
       "      <td>20.000000</td>\n",
       "    </tr>\n",
       "  </tbody>\n",
       "</table>\n",
       "</div>"
      ],
      "text/plain": [
       "       battery_power  clock_speed           fc   int_memory        m_dep  \\\n",
       "count    2000.000000  2000.000000  2000.000000  2000.000000  2000.000000   \n",
       "mean     1238.518500     1.522250     4.309500    32.046500     0.501750   \n",
       "std       439.418206     0.816004     4.341444    18.145715     0.288416   \n",
       "min       501.000000     0.500000     0.000000     2.000000     0.100000   \n",
       "25%       851.750000     0.700000     1.000000    16.000000     0.200000   \n",
       "50%      1226.000000     1.500000     3.000000    32.000000     0.500000   \n",
       "75%      1615.250000     2.200000     7.000000    48.000000     0.800000   \n",
       "max      1998.000000     3.000000    19.000000    64.000000     1.000000   \n",
       "\n",
       "         mobile_wt      n_cores           pc    px_height     px_width  \\\n",
       "count  2000.000000  2000.000000  2000.000000  2000.000000  2000.000000   \n",
       "mean    140.249000     4.520500     9.916500   645.108000  1251.515500   \n",
       "std      35.399655     2.287837     6.064315   443.780811   432.199447   \n",
       "min      80.000000     1.000000     0.000000     0.000000   500.000000   \n",
       "25%     109.000000     3.000000     5.000000   282.750000   874.750000   \n",
       "50%     141.000000     4.000000    10.000000   564.000000  1247.000000   \n",
       "75%     170.000000     7.000000    15.000000   947.250000  1633.000000   \n",
       "max     200.000000     8.000000    20.000000  1960.000000  1998.000000   \n",
       "\n",
       "               ram         sc_h         sc_w    talk_time  \n",
       "count  2000.000000  2000.000000  2000.000000  2000.000000  \n",
       "mean   2124.213000    12.306500     5.767000    11.011000  \n",
       "std    1084.732044     4.213245     4.356398     5.463955  \n",
       "min     256.000000     5.000000     0.000000     2.000000  \n",
       "25%    1207.500000     9.000000     2.000000     6.000000  \n",
       "50%    2146.500000    12.000000     5.000000    11.000000  \n",
       "75%    3064.500000    16.000000     9.000000    16.000000  \n",
       "max    3998.000000    19.000000    18.000000    20.000000  "
      ]
     },
     "execution_count": 10,
     "metadata": {},
     "output_type": "execute_result"
    }
   ],
   "source": [
    "#Describe continuous values.\n",
    "mobilem.drop(cat_mobile,axis=1).describe()"
   ]
  },
  {
   "cell_type": "code",
   "execution_count": 12,
   "id": "b51441b2",
   "metadata": {},
   "outputs": [
    {
     "name": "stdout",
     "output_type": "stream",
     "text": [
      "0    1010\n",
      "1     990\n",
      "Name: blue, dtype: int64\n",
      "1    1043\n",
      "0     957\n",
      "Name: four_g, dtype: int64\n",
      "1    1523\n",
      "0     477\n",
      "Name: three_g, dtype: int64\n",
      "1    1006\n",
      "0     994\n",
      "Name: touch_screen, dtype: int64\n",
      "1    1014\n",
      "0     986\n",
      "Name: wifi, dtype: int64\n",
      "1    1019\n",
      "0     981\n",
      "Name: dual_sim, dtype: int64\n",
      "1    500\n",
      "2    500\n",
      "3    500\n",
      "0    500\n",
      "Name: price_range, dtype: int64\n"
     ]
    }
   ],
   "source": [
    "for i in cat_mobile:\n",
    "    print(mobilem[i].value_counts())"
   ]
  },
  {
   "cell_type": "code",
   "execution_count": 10,
   "id": "3d50a601",
   "metadata": {},
   "outputs": [
    {
     "data": {
      "text/plain": [
       "battery_power    1.930884e+05\n",
       "blue             2.501001e-01\n",
       "clock_speed      6.658629e-01\n",
       "dual_sim         2.500348e-01\n",
       "fc               1.884813e+01\n",
       "four_g           2.496626e-01\n",
       "int_memory       3.292670e+02\n",
       "m_dep            8.318353e-02\n",
       "mobile_wt        1.253136e+03\n",
       "n_cores          5.234197e+00\n",
       "pc               3.677592e+01\n",
       "px_height        1.969414e+05\n",
       "px_width         1.867964e+05\n",
       "ram              1.176644e+06\n",
       "sc_h             1.775143e+01\n",
       "sc_w             1.897820e+01\n",
       "talk_time        2.985481e+01\n",
       "three_g          1.817086e-01\n",
       "touch_screen     2.501161e-01\n",
       "wifi             2.500760e-01\n",
       "price_range      1.250625e+00\n",
       "dtype: float64"
      ]
     },
     "execution_count": 10,
     "metadata": {},
     "output_type": "execute_result"
    }
   ],
   "source": [
    "mobilem.var()"
   ]
  },
  {
   "cell_type": "code",
   "execution_count": null,
   "id": "b3c71f19",
   "metadata": {},
   "outputs": [],
   "source": []
  },
  {
   "cell_type": "markdown",
   "id": "1dce0396",
   "metadata": {},
   "source": [
    "We see that we have a train of 2000 items with 21 column and no empty values.\n",
    "Next is to see if we need to do feature reduction"
   ]
  },
  {
   "cell_type": "code",
   "execution_count": 15,
   "id": "7c697460",
   "metadata": {},
   "outputs": [
    {
     "data": {
      "text/html": [
       "<div>\n",
       "<style scoped>\n",
       "    .dataframe tbody tr th:only-of-type {\n",
       "        vertical-align: middle;\n",
       "    }\n",
       "\n",
       "    .dataframe tbody tr th {\n",
       "        vertical-align: top;\n",
       "    }\n",
       "\n",
       "    .dataframe thead th {\n",
       "        text-align: right;\n",
       "    }\n",
       "</style>\n",
       "<table border=\"1\" class=\"dataframe\">\n",
       "  <thead>\n",
       "    <tr style=\"text-align: right;\">\n",
       "      <th></th>\n",
       "      <th>level_0</th>\n",
       "      <th>level_1</th>\n",
       "      <th>0</th>\n",
       "    </tr>\n",
       "  </thead>\n",
       "  <tbody>\n",
       "    <tr>\n",
       "      <th>21</th>\n",
       "      <td>price_range</td>\n",
       "      <td>ram</td>\n",
       "      <td>0.917046</td>\n",
       "    </tr>\n",
       "    <tr>\n",
       "      <th>22</th>\n",
       "      <td>ram</td>\n",
       "      <td>price_range</td>\n",
       "      <td>0.917046</td>\n",
       "    </tr>\n",
       "    <tr>\n",
       "      <th>23</th>\n",
       "      <td>fc</td>\n",
       "      <td>pc</td>\n",
       "      <td>0.644595</td>\n",
       "    </tr>\n",
       "    <tr>\n",
       "      <th>24</th>\n",
       "      <td>pc</td>\n",
       "      <td>fc</td>\n",
       "      <td>0.644595</td>\n",
       "    </tr>\n",
       "    <tr>\n",
       "      <th>25</th>\n",
       "      <td>three_g</td>\n",
       "      <td>four_g</td>\n",
       "      <td>0.584246</td>\n",
       "    </tr>\n",
       "    <tr>\n",
       "      <th>...</th>\n",
       "      <td>...</td>\n",
       "      <td>...</td>\n",
       "      <td>...</td>\n",
       "    </tr>\n",
       "    <tr>\n",
       "      <th>436</th>\n",
       "      <td>three_g</td>\n",
       "      <td>px_width</td>\n",
       "      <td>0.000350</td>\n",
       "    </tr>\n",
       "    <tr>\n",
       "      <th>437</th>\n",
       "      <td>n_cores</td>\n",
       "      <td>sc_h</td>\n",
       "      <td>0.000315</td>\n",
       "    </tr>\n",
       "    <tr>\n",
       "      <th>438</th>\n",
       "      <td>sc_h</td>\n",
       "      <td>n_cores</td>\n",
       "      <td>0.000315</td>\n",
       "    </tr>\n",
       "    <tr>\n",
       "      <th>439</th>\n",
       "      <td>mobile_wt</td>\n",
       "      <td>px_width</td>\n",
       "      <td>0.000090</td>\n",
       "    </tr>\n",
       "    <tr>\n",
       "      <th>440</th>\n",
       "      <td>px_width</td>\n",
       "      <td>mobile_wt</td>\n",
       "      <td>0.000090</td>\n",
       "    </tr>\n",
       "  </tbody>\n",
       "</table>\n",
       "<p>420 rows × 3 columns</p>\n",
       "</div>"
      ],
      "text/plain": [
       "         level_0      level_1         0\n",
       "21   price_range          ram  0.917046\n",
       "22           ram  price_range  0.917046\n",
       "23            fc           pc  0.644595\n",
       "24            pc           fc  0.644595\n",
       "25       three_g       four_g  0.584246\n",
       "..           ...          ...       ...\n",
       "436      three_g     px_width  0.000350\n",
       "437      n_cores         sc_h  0.000315\n",
       "438         sc_h      n_cores  0.000315\n",
       "439    mobile_wt     px_width  0.000090\n",
       "440     px_width    mobile_wt  0.000090\n",
       "\n",
       "[420 rows x 3 columns]"
      ]
     },
     "execution_count": 15,
     "metadata": {},
     "output_type": "execute_result"
    }
   ],
   "source": [
    "# First get and see highly correlated values\n",
    "# Technique from \n",
    "# https://stackoverflow.com/questions/17778394/\n",
    "# list-highest-correlation-pairs-from-a-large-correlation-matrix-in-pandas\n",
    "\n",
    "c = mobilem.corr().abs()\n",
    "\n",
    "s = c.unstack()\n",
    "so = s.sort_values(kind=\"quicksort\", ascending=False).reset_index()\n",
    "\n",
    "so[so['level_0']!=so['level_1']]"
   ]
  },
  {
   "cell_type": "markdown",
   "id": "825e30b6",
   "metadata": {},
   "source": [
    "WE see that the highest correlated values are Ram to price which makes sense and the next highly correlated value \n",
    "is front and primary camera and 3G/4G modem.\n",
    "\n",
    "We want to predict price but the correlation values are low so we don't have to remove highly correlated values.  Instead let's focus on removing low variance varibale"
   ]
  },
  {
   "cell_type": "code",
   "execution_count": 16,
   "id": "ac12ca4c",
   "metadata": {},
   "outputs": [],
   "source": [
    "mobilem2 = mobilem.drop('ram',axis=1).loc[:,mobilem.var()>0.2].copy()"
   ]
  },
  {
   "cell_type": "code",
   "execution_count": 17,
   "id": "e7bc4c94",
   "metadata": {},
   "outputs": [
    {
     "data": {
      "text/html": [
       "<div>\n",
       "<style scoped>\n",
       "    .dataframe tbody tr th:only-of-type {\n",
       "        vertical-align: middle;\n",
       "    }\n",
       "\n",
       "    .dataframe tbody tr th {\n",
       "        vertical-align: top;\n",
       "    }\n",
       "\n",
       "    .dataframe thead th {\n",
       "        text-align: right;\n",
       "    }\n",
       "</style>\n",
       "<table border=\"1\" class=\"dataframe\">\n",
       "  <thead>\n",
       "    <tr style=\"text-align: right;\">\n",
       "      <th></th>\n",
       "      <th>battery_power</th>\n",
       "      <th>blue</th>\n",
       "      <th>clock_speed</th>\n",
       "      <th>dual_sim</th>\n",
       "      <th>fc</th>\n",
       "      <th>four_g</th>\n",
       "      <th>int_memory</th>\n",
       "      <th>mobile_wt</th>\n",
       "      <th>n_cores</th>\n",
       "      <th>pc</th>\n",
       "      <th>px_height</th>\n",
       "      <th>px_width</th>\n",
       "      <th>sc_h</th>\n",
       "      <th>sc_w</th>\n",
       "      <th>talk_time</th>\n",
       "      <th>touch_screen</th>\n",
       "      <th>wifi</th>\n",
       "      <th>price_range</th>\n",
       "    </tr>\n",
       "  </thead>\n",
       "  <tbody>\n",
       "    <tr>\n",
       "      <th>0</th>\n",
       "      <td>842</td>\n",
       "      <td>0</td>\n",
       "      <td>2.2</td>\n",
       "      <td>0</td>\n",
       "      <td>1</td>\n",
       "      <td>0</td>\n",
       "      <td>7</td>\n",
       "      <td>188</td>\n",
       "      <td>2</td>\n",
       "      <td>2</td>\n",
       "      <td>20</td>\n",
       "      <td>756</td>\n",
       "      <td>9</td>\n",
       "      <td>7</td>\n",
       "      <td>19</td>\n",
       "      <td>0</td>\n",
       "      <td>1</td>\n",
       "      <td>1</td>\n",
       "    </tr>\n",
       "    <tr>\n",
       "      <th>1</th>\n",
       "      <td>1021</td>\n",
       "      <td>1</td>\n",
       "      <td>0.5</td>\n",
       "      <td>1</td>\n",
       "      <td>0</td>\n",
       "      <td>1</td>\n",
       "      <td>53</td>\n",
       "      <td>136</td>\n",
       "      <td>3</td>\n",
       "      <td>6</td>\n",
       "      <td>905</td>\n",
       "      <td>1988</td>\n",
       "      <td>17</td>\n",
       "      <td>3</td>\n",
       "      <td>7</td>\n",
       "      <td>1</td>\n",
       "      <td>0</td>\n",
       "      <td>2</td>\n",
       "    </tr>\n",
       "    <tr>\n",
       "      <th>2</th>\n",
       "      <td>563</td>\n",
       "      <td>1</td>\n",
       "      <td>0.5</td>\n",
       "      <td>1</td>\n",
       "      <td>2</td>\n",
       "      <td>1</td>\n",
       "      <td>41</td>\n",
       "      <td>145</td>\n",
       "      <td>5</td>\n",
       "      <td>6</td>\n",
       "      <td>1263</td>\n",
       "      <td>1716</td>\n",
       "      <td>11</td>\n",
       "      <td>2</td>\n",
       "      <td>9</td>\n",
       "      <td>1</td>\n",
       "      <td>0</td>\n",
       "      <td>2</td>\n",
       "    </tr>\n",
       "    <tr>\n",
       "      <th>3</th>\n",
       "      <td>615</td>\n",
       "      <td>1</td>\n",
       "      <td>2.5</td>\n",
       "      <td>0</td>\n",
       "      <td>0</td>\n",
       "      <td>0</td>\n",
       "      <td>10</td>\n",
       "      <td>131</td>\n",
       "      <td>6</td>\n",
       "      <td>9</td>\n",
       "      <td>1216</td>\n",
       "      <td>1786</td>\n",
       "      <td>16</td>\n",
       "      <td>8</td>\n",
       "      <td>11</td>\n",
       "      <td>0</td>\n",
       "      <td>0</td>\n",
       "      <td>2</td>\n",
       "    </tr>\n",
       "    <tr>\n",
       "      <th>4</th>\n",
       "      <td>1821</td>\n",
       "      <td>1</td>\n",
       "      <td>1.2</td>\n",
       "      <td>0</td>\n",
       "      <td>13</td>\n",
       "      <td>1</td>\n",
       "      <td>44</td>\n",
       "      <td>141</td>\n",
       "      <td>2</td>\n",
       "      <td>14</td>\n",
       "      <td>1208</td>\n",
       "      <td>1212</td>\n",
       "      <td>8</td>\n",
       "      <td>2</td>\n",
       "      <td>15</td>\n",
       "      <td>1</td>\n",
       "      <td>0</td>\n",
       "      <td>1</td>\n",
       "    </tr>\n",
       "  </tbody>\n",
       "</table>\n",
       "</div>"
      ],
      "text/plain": [
       "   battery_power  blue  clock_speed  dual_sim  fc  four_g  int_memory  \\\n",
       "0            842     0          2.2         0   1       0           7   \n",
       "1           1021     1          0.5         1   0       1          53   \n",
       "2            563     1          0.5         1   2       1          41   \n",
       "3            615     1          2.5         0   0       0          10   \n",
       "4           1821     1          1.2         0  13       1          44   \n",
       "\n",
       "   mobile_wt  n_cores  pc  px_height  px_width  sc_h  sc_w  talk_time  \\\n",
       "0        188        2   2         20       756     9     7         19   \n",
       "1        136        3   6        905      1988    17     3          7   \n",
       "2        145        5   6       1263      1716    11     2          9   \n",
       "3        131        6   9       1216      1786    16     8         11   \n",
       "4        141        2  14       1208      1212     8     2         15   \n",
       "\n",
       "   touch_screen  wifi  price_range  \n",
       "0             0     1            1  \n",
       "1             1     0            2  \n",
       "2             1     0            2  \n",
       "3             0     0            2  \n",
       "4             1     0            1  "
      ]
     },
     "execution_count": 17,
     "metadata": {},
     "output_type": "execute_result"
    }
   ],
   "source": [
    "mobilem2.head()"
   ]
  },
  {
   "cell_type": "code",
   "execution_count": 18,
   "id": "0eae7458",
   "metadata": {},
   "outputs": [
    {
     "data": {
      "text/plain": [
       "(2000, 18)"
      ]
     },
     "execution_count": 18,
     "metadata": {},
     "output_type": "execute_result"
    }
   ],
   "source": [
    "mobilem2.shape"
   ]
  },
  {
   "cell_type": "markdown",
   "id": "76851448",
   "metadata": {},
   "source": [
    "We now have variables with a varaiance higher that 0.2 which should allow for more robust prediction of our target variable price range"
   ]
  },
  {
   "cell_type": "code",
   "execution_count": 19,
   "id": "d6b364fc",
   "metadata": {},
   "outputs": [],
   "source": [
    "random_state = 3682\n",
    "\n",
    "X_train, X_test, Y_train, Y_test = train_test_split(mobilem2.drop('price_range', axis=1),\\\n",
    "    mobilem['price_range'], test_size=0.33, random_state=random_state)"
   ]
  },
  {
   "cell_type": "code",
   "execution_count": 22,
   "id": "a59f0a7c",
   "metadata": {},
   "outputs": [],
   "source": [
    "# Import evaluation metrics for xecution\n",
    "from sklearn.metrics import mean_absolute_error, mean_squared_error"
   ]
  },
  {
   "cell_type": "markdown",
   "id": "157b0732",
   "metadata": {},
   "source": [
    "Let's first start off with a simple Linear Regression"
   ]
  },
  {
   "cell_type": "code",
   "execution_count": 23,
   "id": "2fdd440a",
   "metadata": {},
   "outputs": [],
   "source": [
    "LinRegres = LinearRegression()\n",
    "LinRegresModel = LinRegres.fit(X_train, Y_train)"
   ]
  },
  {
   "cell_type": "code",
   "execution_count": 25,
   "id": "d6849cdb",
   "metadata": {},
   "outputs": [
    {
     "name": "stdout",
     "output_type": "stream",
     "text": [
      "1.0645625220804107\n",
      "1.0929284429162305\n"
     ]
    }
   ],
   "source": [
    "#RSME the smaller theb etter\n",
    "import math\n",
    "print(math.sqrt(mean_squared_error(Y_train, LinRegresModel.predict(X_train))))\n",
    "#Test data\n",
    "print(math.sqrt(mean_squared_error(Y_test, LinRegresModel.predict(X_test))))"
   ]
  },
  {
   "cell_type": "code",
   "execution_count": 26,
   "id": "5165a8c3",
   "metadata": {},
   "outputs": [
    {
     "data": {
      "text/plain": [
       "[]"
      ]
     },
     "execution_count": 26,
     "metadata": {},
     "output_type": "execute_result"
    },
    {
     "data": {
      "image/png": "[encoded data removed]",
      "text/plain": [
       "<Figure size 432x288 with 1 Axes>"
      ]
     },
     "metadata": {
      "needs_background": "light"
     },
     "output_type": "display_data"
    }
   ],
   "source": [
    "#Plot the X_test predictions for the best ML model\n",
    "pd.Series(LinRegresModel.predict(X_test), name='pred_price_range').plot(kind='hist').plot(kind='hist')"
   ]
  },
  {
   "cell_type": "markdown",
   "id": "ed1c6c45",
   "metadata": {},
   "source": [
    "We know that Linear Regression is good but there are other methods that may meet or beat the RSME give.\n",
    "Let's build a Grid Search model for prediction"
   ]
  },
  {
   "cell_type": "code",
   "execution_count": 27,
   "id": "0a4ad1d8",
   "metadata": {},
   "outputs": [],
   "source": [
    "\n",
    "paramaers=[{\n",
    "    'reg': (LinearRegression(),)\n",
    "    },{\n",
    "    'reg': (ElasticNet(),),\n",
    "    'reg__alpha': (0.5, 1, 2, 5, 10, 50, 100)\n",
    "    },{\n",
    "     'reg': (Ridge(),),\n",
    "    'reg__alpha': (0.5, 1, 2, 5, 10, 50, 100)   \n",
    "        },\n",
    "    {\n",
    "     'reg': (RandomForestRegressor(),), \n",
    "    'reg__n_estimators': (100,300,500),\n",
    "    'reg__random_state': [random_state],\n",
    "    'reg__criterion': ['squared_error']\n",
    "    },{\n",
    "    'reg': (XGBRegressor(),),\n",
    "    'reg__n_estimators': (100,300,500),\n",
    "    'reg__learning_rate': (0.1, 0.25),\n",
    "    'reg__eval_metric': [mean_squared_error],\n",
    "    'reg__random_state': [random_state]}]"
   ]
  },
  {
   "cell_type": "code",
   "execution_count": 28,
   "id": "c2754e60",
   "metadata": {},
   "outputs": [],
   "source": [
    "pipe = Pipeline([('reg',LinearRegression())])\n",
    "# Build the Gridsearch CV pipe\n",
    "grid_pipe = GridSearchCV(pipe,\n",
    "    scoring='neg_mean_absolute_error',\n",
    "    param_grid=paramaers,\n",
    "    cv=5)"
   ]
  },
  {
   "cell_type": "code",
   "execution_count": 29,
   "id": "d27d7a21",
   "metadata": {},
   "outputs": [],
   "source": [
    "# pefrom the fit\n",
    "reg_bm = grid_pipe.fit(X_train, Y_train)"
   ]
  },
  {
   "cell_type": "code",
   "execution_count": 30,
   "id": "f31bb746",
   "metadata": {},
   "outputs": [
    {
     "data": {
      "text/plain": [
       "Pipeline(steps=[('reg',\n",
       "                 RandomForestRegressor(n_estimators=500, random_state=3682))])"
      ]
     },
     "execution_count": 30,
     "metadata": {},
     "output_type": "execute_result"
    }
   ],
   "source": [
    "reg_bm.best_estimator_"
   ]
  },
  {
   "cell_type": "markdown",
   "id": "bd1d8be2",
   "metadata": {},
   "source": [
    "We see that extreme gradient boosting for this data is the best, and so now we will use these paramters to see RSME"
   ]
  },
  {
   "cell_type": "code",
   "execution_count": 20,
   "id": "f25594ac",
   "metadata": {},
   "outputs": [],
   "source": [
    "Y_pred = reg_bm.predict(X_test)"
   ]
  },
  {
   "cell_type": "code",
   "execution_count": 21,
   "id": "f747f992",
   "metadata": {},
   "outputs": [
    {
     "name": "stdout",
     "output_type": "stream",
     "text": [
      "0.4005504011739309\n",
      "1.1215036929646436\n"
     ]
    }
   ],
   "source": [
    "#RSME the smaller theb etter\n",
    "import math\n",
    "print(math.sqrt(mean_squared_error(Y_train, reg_bm.predict(X_train))))\n",
    "#Test data\n",
    "print(math.sqrt(mean_squared_error(Y_test, Y_pred)))"
   ]
  },
  {
   "cell_type": "code",
   "execution_count": 22,
   "id": "083d2d92",
   "metadata": {},
   "outputs": [
    {
     "data": {
      "text/plain": [
       "[]"
      ]
     },
     "execution_count": 22,
     "metadata": {},
     "output_type": "execute_result"
    },
    {
     "data": {
      "image/png": "[encoded data removed]",
      "text/plain": [
       "<Figure size 432x288 with 1 Axes>"
      ]
     },
     "metadata": {
      "needs_background": "light"
     },
     "output_type": "display_data"
    }
   ],
   "source": [
    "#Plot the X_test predictions for the best ML model\n",
    "pd.Series(reg_bm.predict(X_test), name='pred_price_range').plot(kind='hist').plot(kind='hist')"
   ]
  },
  {
   "cell_type": "code",
   "execution_count": 23,
   "id": "f80e518b",
   "metadata": {
    "scrolled": true
   },
   "outputs": [
    {
     "data": {
      "text/plain": [
       "<AxesSubplot:ylabel='Frequency'>"
      ]
     },
     "execution_count": 23,
     "metadata": {},
     "output_type": "execute_result"
    },
    {
     "data": {
      "image/png": "[encoded data removed]",
      "text/plain": [
       "<Figure size 432x288 with 1 Axes>"
      ]
     },
     "metadata": {
      "needs_background": "light"
     },
     "output_type": "display_data"
    }
   ],
   "source": [
    "Y_test.plot(kind='hist')"
   ]
  },
  {
   "cell_type": "markdown",
   "id": "e9b0e9e8",
   "metadata": {},
   "source": [
    "The evaluation is great on these predctions, but to assert if it was good, we should round and recalcualte RSME."
   ]
  },
  {
   "cell_type": "code",
   "execution_count": 24,
   "id": "f3339655",
   "metadata": {
    "scrolled": true
   },
   "outputs": [
    {
     "name": "stdout",
     "output_type": "stream",
     "text": [
      "0.48944074085222017\n",
      "1.1690451944500122\n"
     ]
    }
   ],
   "source": [
    "#RSME the smaller the better, this time rounded/\n",
    "import math\n",
    "print(math.sqrt(mean_squared_error(Y_train, np.round(reg_bm.predict(X_train),0))))\n",
    "#Test data\n",
    "print(math.sqrt(mean_squared_error(Y_test, np.round(Y_pred,0))))"
   ]
  },
  {
   "cell_type": "code",
   "execution_count": 25,
   "id": "e8d01f47",
   "metadata": {},
   "outputs": [
    {
     "data": {
      "text/plain": [
       "[]"
      ]
     },
     "execution_count": 25,
     "metadata": {},
     "output_type": "execute_result"
    },
    {
     "data": {
      "image/png": "[encoded data removed]",
      "text/plain": [
       "<Figure size 432x288 with 1 Axes>"
      ]
     },
     "metadata": {
      "needs_background": "light"
     },
     "output_type": "display_data"
    }
   ],
   "source": [
    "#Plot the X_test predictions for the best ML model\n",
    "pd.Series(np.round(reg_bm.predict(X_test),0), name='pred_price_range').plot(kind='hist').plot(kind='hist')"
   ]
  },
  {
   "cell_type": "code",
   "execution_count": 26,
   "id": "22f3ed1d",
   "metadata": {
    "scrolled": true
   },
   "outputs": [
    {
     "data": {
      "text/plain": [
       "<AxesSubplot:ylabel='Frequency'>"
      ]
     },
     "execution_count": 26,
     "metadata": {},
     "output_type": "execute_result"
    },
    {
     "data": {
      "image/png": "[encoded data removed]",
      "text/plain": [
       "<Figure size 432x288 with 1 Axes>"
      ]
     },
     "metadata": {
      "needs_background": "light"
     },
     "output_type": "display_data"
    }
   ],
   "source": [
    "Y_test.plot(kind='hist')"
   ]
  },
  {
   "cell_type": "markdown",
   "id": "c32b2f79",
   "metadata": {},
   "source": [
    "Fairly low RSME on both train and test and the data looks simiarl.  We created a model that can best predict price range on mobile phones\n",
    "\n",
    "Next is the deep learning model"
   ]
  },
  {
   "cell_type": "markdown",
   "id": "3d957167",
   "metadata": {},
   "source": [
    "### KBQ1: What machine learning technique best tackles on regression based problem.\n",
    "\n",
    "#### Answer: Extreme Gradient Boosting preformed the best out of the models presented.\n"
   ]
  },
  {
   "cell_type": "code",
   "execution_count": null,
   "id": "a8569c0d",
   "metadata": {},
   "outputs": [],
   "source": []
  },
  {
   "cell_type": "markdown",
   "id": "854e41b0",
   "metadata": {},
   "source": [
    "## KBQ2: Does a deep learning model for regression provide better results?"
   ]
  },
  {
   "cell_type": "markdown",
   "id": "5377e488",
   "metadata": {},
   "source": [
    "First build the Deep Learning model \n",
    "This method will use LocalGLMNet\n"
   ]
  },
  {
   "cell_type": "code",
   "execution_count": 27,
   "id": "4cd917b7",
   "metadata": {},
   "outputs": [
    {
     "name": "stderr",
     "output_type": "stream",
     "text": [
      "Using TensorFlow backend.\n"
     ]
    }
   ],
   "source": [
    "import keras as ks\n",
    "from keras.models import Model\n",
    "from keras.layers import Dense, Dropout, Activation, Input, Conv1D,MaxPooling1D, Flatten\n",
    "from keras.layers import Dense, Input, GlobalMaxPooling1D, Dot\n",
    "from keras.layers import Conv1D, MaxPooling1D, Embedding, Conv2D, MaxPool2D, UpSampling2D\n",
    "from keras.utils import plot_model"
   ]
  },
  {
   "cell_type": "code",
   "execution_count": 28,
   "id": "ee84320c",
   "metadata": {},
   "outputs": [
    {
     "name": "stderr",
     "output_type": "stream",
     "text": [
      "2023-01-10 21:34:21.397233: I tensorflow/core/platform/cpu_feature_guard.cc:145] This TensorFlow binary is optimized with Intel(R) MKL-DNN to use the following CPU instructions in performance critical operations:  SSE4.1 SSE4.2 AVX AVX2 FMA\n",
      "To enable them in non-MKL-DNN operations, rebuild TensorFlow with the appropriate compiler flags.\n",
      "2023-01-10 21:34:21.397939: I tensorflow/core/common_runtime/process_util.cc:115] Creating new thread pool with default inter op setting: 4. Tune using inter_op_parallelism_threads for best performance.\n"
     ]
    }
   ],
   "source": [
    "#Create the input layer\n",
    "maxlen = mobilem2.shape[1]-1\n",
    "design = Input(shape=(maxlen, ))\n",
    "hidden1 = Dense(maxlen*2, activation='tanh')(design)\n",
    "hidden2 = Dense(round(maxlen*1.75), activation='tanh')(hidden1)\n",
    "hidden3 = Dense(round(maxlen*1.5), activation='tanh')(hidden2)\n",
    "hidden4 = Dense(maxlen, activation='linear', name='Attention')(hidden3)\n"
   ]
  },
  {
   "cell_type": "code",
   "execution_count": 29,
   "id": "64bc6e61",
   "metadata": {},
   "outputs": [],
   "source": [
    "#Create the output layer\n",
    "final_hidden = Dot(axes=1, normalize=False)([design, hidden4])\n",
    "output = Dense(1, activation='linear', name='output')(final_hidden)\n",
    "# "
   ]
  },
  {
   "cell_type": "code",
   "execution_count": 30,
   "id": "ef03f16f",
   "metadata": {},
   "outputs": [],
   "source": [
    "\n",
    "model = Model(inputs=design, outputs=output)"
   ]
  },
  {
   "cell_type": "code",
   "execution_count": 31,
   "id": "64b2b31b",
   "metadata": {},
   "outputs": [
    {
     "name": "stdout",
     "output_type": "stream",
     "text": [
      "Model: \"model_1\"\n",
      "__________________________________________________________________________________________________\n",
      "Layer (type)                    Output Shape         Param #     Connected to                     \n",
      "==================================================================================================\n",
      "input_1 (InputLayer)            (None, 17)           0                                            \n",
      "__________________________________________________________________________________________________\n",
      "dense_1 (Dense)                 (None, 34)           612         input_1[0][0]                    \n",
      "__________________________________________________________________________________________________\n",
      "dense_2 (Dense)                 (None, 30)           1050        dense_1[0][0]                    \n",
      "__________________________________________________________________________________________________\n",
      "dense_3 (Dense)                 (None, 26)           806         dense_2[0][0]                    \n",
      "__________________________________________________________________________________________________\n",
      "Attention (Dense)               (None, 17)           459         dense_3[0][0]                    \n",
      "__________________________________________________________________________________________________\n",
      "dot_1 (Dot)                     (None, 1)            0           input_1[0][0]                    \n",
      "                                                                 Attention[0][0]                  \n",
      "__________________________________________________________________________________________________\n",
      "output (Dense)                  (None, 1)            2           dot_1[0][0]                      \n",
      "==================================================================================================\n",
      "Total params: 2,929\n",
      "Trainable params: 2,929\n",
      "Non-trainable params: 0\n",
      "__________________________________________________________________________________________________\n"
     ]
    }
   ],
   "source": [
    "model.compile(loss='mse', optimizer='nadam')\n",
    "model.summary()"
   ]
  },
  {
   "cell_type": "code",
   "execution_count": 32,
   "id": "a46e988d",
   "metadata": {
    "scrolled": true
   },
   "outputs": [
    {
     "name": "stdout",
     "output_type": "stream",
     "text": [
      "Train on 1340 samples, validate on 660 samples\n",
      "Epoch 1/30\n",
      "1340/1340 [==============================] - 5s 4ms/step - loss: 10771.7943 - val_loss: 2717.2987\n",
      "Epoch 2/30\n",
      "1340/1340 [==============================] - 2s 2ms/step - loss: 2037.9500 - val_loss: 386.8955\n",
      "Epoch 3/30\n",
      "1340/1340 [==============================] - 7s 5ms/step - loss: 1083.4527 - val_loss: 367.0076\n",
      "Epoch 4/30\n",
      "1340/1340 [==============================] - 10s 7ms/step - loss: 540.6793 - val_loss: 164.3859\n",
      "Epoch 5/30\n",
      "1340/1340 [==============================] - 6s 4ms/step - loss: 479.0720 - val_loss: 207.2937\n",
      "Epoch 6/30\n",
      "1340/1340 [==============================] - 11s 8ms/step - loss: 131.5172 - val_loss: 76.0476\n",
      "Epoch 7/30\n",
      "1340/1340 [==============================] - 4s 3ms/step - loss: 290.5241 - val_loss: 86.6970\n",
      "Epoch 8/30\n",
      "1340/1340 [==============================] - 2s 2ms/step - loss: 223.6121 - val_loss: 145.3693\n",
      "Epoch 9/30\n",
      "1340/1340 [==============================] - 3s 2ms/step - loss: 54.9496 - val_loss: 31.9658\n",
      "Epoch 10/30\n",
      "1340/1340 [==============================] - 4s 3ms/step - loss: 54.3803 - val_loss: 29.8242\n",
      "Epoch 11/30\n",
      "1340/1340 [==============================] - 3s 2ms/step - loss: 48.3839 - val_loss: 41.2384\n",
      "Epoch 12/30\n",
      "1340/1340 [==============================] - 2s 2ms/step - loss: 371.1635 - val_loss: 22.0995\n",
      "Epoch 13/30\n",
      "1340/1340 [==============================] - 2s 2ms/step - loss: 15.7608 - val_loss: 13.2392\n",
      "Epoch 14/30\n",
      "1340/1340 [==============================] - 2s 2ms/step - loss: 10.5730 - val_loss: 11.7320\n",
      "Epoch 15/30\n",
      "1340/1340 [==============================] - 2s 2ms/step - loss: 9.9301 - val_loss: 9.1468\n",
      "Epoch 16/30\n",
      "1340/1340 [==============================] - 2s 2ms/step - loss: 8.2699 - val_loss: 10.9778\n",
      "Epoch 17/30\n",
      "1340/1340 [==============================] - 2s 2ms/step - loss: 7.6957 - val_loss: 7.5519\n",
      "Epoch 18/30\n",
      "1340/1340 [==============================] - 3s 2ms/step - loss: 10.3709 - val_loss: 6.2251\n",
      "Epoch 19/30\n",
      "1340/1340 [==============================] - 3s 2ms/step - loss: 10.3049 - val_loss: 8.2635\n",
      "Epoch 20/30\n",
      "1340/1340 [==============================] - 2s 2ms/step - loss: 10.4513 - val_loss: 15.3719\n",
      "Epoch 21/30\n",
      "1340/1340 [==============================] - 2s 2ms/step - loss: 13.0095 - val_loss: 19.1141\n",
      "Epoch 22/30\n",
      "1340/1340 [==============================] - 4s 3ms/step - loss: 10.2677 - val_loss: 8.5612\n",
      "Epoch 23/30\n",
      "1340/1340 [==============================] - 7s 5ms/step - loss: 7.8128 - val_loss: 8.1440\n",
      "Epoch 24/30\n",
      "1340/1340 [==============================] - 5s 4ms/step - loss: 7.4349 - val_loss: 4.2605\n",
      "Epoch 25/30\n",
      "1340/1340 [==============================] - 3s 2ms/step - loss: 4.3735 - val_loss: 5.3420\n",
      "Epoch 26/30\n",
      "1340/1340 [==============================] - 2s 2ms/step - loss: 3.9998 - val_loss: 2.9457\n",
      "Epoch 27/30\n",
      "1340/1340 [==============================] - 3s 2ms/step - loss: 3.6995 - val_loss: 3.5595\n",
      "Epoch 28/30\n",
      "1340/1340 [==============================] - 3s 2ms/step - loss: 4.2627 - val_loss: 3.9103\n",
      "Epoch 29/30\n",
      "1340/1340 [==============================] - 2s 2ms/step - loss: 2.9471 - val_loss: 2.7481\n",
      "Epoch 30/30\n",
      "1340/1340 [==============================] - 2s 2ms/step - loss: 2.5395 - val_loss: 1.9309\n"
     ]
    }
   ],
   "source": [
    "history = model.fit(X_train, Y_train,epochs=30, verbose=True, batch_size=5,validation_data=(X_test,Y_test))"
   ]
  },
  {
   "cell_type": "code",
   "execution_count": 33,
   "id": "2c2cba6f",
   "metadata": {},
   "outputs": [
    {
     "name": "stdout",
     "output_type": "stream",
     "text": [
      "1.2406858226256148\n",
      "1.3895838402214717\n"
     ]
    }
   ],
   "source": [
    "#RSME the smaller theb etter\n",
    "import math\n",
    "print(math.sqrt(mean_squared_error(Y_train, model.predict(X_train))))\n",
    "#Test data\n",
    "print(math.sqrt(mean_squared_error(Y_test, model.predict(X_test))))"
   ]
  },
  {
   "cell_type": "code",
   "execution_count": 34,
   "id": "ef793990",
   "metadata": {
    "scrolled": true
   },
   "outputs": [
    {
     "data": {
      "text/plain": [
       "<AxesSubplot:ylabel='Frequency'>"
      ]
     },
     "execution_count": 34,
     "metadata": {},
     "output_type": "execute_result"
    },
    {
     "data": {
      "image/png": "[encoded data removed]",
      "text/plain": [
       "<Figure size 432x288 with 1 Axes>"
      ]
     },
     "metadata": {
      "needs_background": "light"
     },
     "output_type": "display_data"
    }
   ],
   "source": [
    "#Plot the X test histogram for LocalGLM\n",
    "pd.Series(model.predict(X_test)[:,0], name='pred_price_range').plot(kind='hist')"
   ]
  },
  {
   "cell_type": "code",
   "execution_count": 35,
   "id": "46619b15",
   "metadata": {
    "scrolled": true
   },
   "outputs": [
    {
     "data": {
      "text/plain": [
       "<AxesSubplot:ylabel='Frequency'>"
      ]
     },
     "execution_count": 35,
     "metadata": {},
     "output_type": "execute_result"
    },
    {
     "data": {
      "image/png": "[encoded data removed]",
      "text/plain": [
       "<Figure size 432x288 with 1 Axes>"
      ]
     },
     "metadata": {
      "needs_background": "light"
     },
     "output_type": "display_data"
    }
   ],
   "source": [
    "Y_test.plot(kind='hist')"
   ]
  },
  {
   "cell_type": "markdown",
   "id": "4b127060",
   "metadata": {},
   "source": [
    "These results don't look all great but we may get better results via rounding."
   ]
  },
  {
   "cell_type": "code",
   "execution_count": 36,
   "id": "078e0797",
   "metadata": {},
   "outputs": [
    {
     "name": "stdout",
     "output_type": "stream",
     "text": [
      "1.2557331211853062\n",
      "1.412605587364904\n"
     ]
    }
   ],
   "source": [
    "#RSME the smaller theb etter\n",
    "import math\n",
    "print(math.sqrt(mean_squared_error(Y_train, np.round(model.predict(X_train),0))))\n",
    "#Test data\n",
    "print(math.sqrt(mean_squared_error(Y_test, np.round(model.predict(X_test),0))))"
   ]
  },
  {
   "cell_type": "code",
   "execution_count": 46,
   "id": "b83a9334",
   "metadata": {
    "scrolled": true
   },
   "outputs": [
    {
     "data": {
      "text/plain": [
       "<AxesSubplot:ylabel='Frequency'>"
      ]
     },
     "execution_count": 46,
     "metadata": {},
     "output_type": "execute_result"
    },
    {
     "data": {
      "image/png": "[encoded data removed]",
      "text/plain": [
       "<Figure size 432x288 with 1 Axes>"
      ]
     },
     "metadata": {
      "needs_background": "light"
     },
     "output_type": "display_data"
    }
   ],
   "source": [
    "#Plot the X test histogram for LocalGLM\n",
    "pd.Series(np.round(model.predict(X_test)[:,0],0), name='pred_price_range').plot(kind='hist')"
   ]
  },
  {
   "cell_type": "code",
   "execution_count": 38,
   "id": "7e81f2d2",
   "metadata": {
    "scrolled": true
   },
   "outputs": [
    {
     "data": {
      "text/plain": [
       "<AxesSubplot:ylabel='Frequency'>"
      ]
     },
     "execution_count": 38,
     "metadata": {},
     "output_type": "execute_result"
    },
    {
     "data": {
      "image/png": "[encoded data removed]",
      "text/plain": [
       "<Figure size 432x288 with 1 Axes>"
      ]
     },
     "metadata": {
      "needs_background": "light"
     },
     "output_type": "display_data"
    }
   ],
   "source": [
    "Y_test.plot(kind='hist')"
   ]
  },
  {
   "cell_type": "markdown",
   "id": "72f0d04b",
   "metadata": {},
   "source": [
    "The RSME for the best model Random forest is \n",
    "Train: 0.0\n",
    "Test: 0.3279874350882326\n",
    "\n",
    "Meanwhile the RSME for the LocalGLM regression is \n",
    "Train: 1.0374670941095532\n",
    "Test: 1.1613381792575317\n",
    "\n"
   ]
  },
  {
   "cell_type": "markdown",
   "id": "5012d672",
   "metadata": {},
   "source": [
    "Based on the results, is the best model is Random Forest, even when accomodating for rounding\n",
    "\n",
    "Now that we've seen it on train data. Let's do one more evaluation with test data."
   ]
  },
  {
   "cell_type": "code",
   "execution_count": 39,
   "id": "d8a6a9db",
   "metadata": {},
   "outputs": [],
   "source": [
    "mobtest = pd.read_csv(\"mobile/test.csv\")"
   ]
  },
  {
   "cell_type": "code",
   "execution_count": 40,
   "id": "d2eb2310",
   "metadata": {},
   "outputs": [
    {
     "data": {
      "text/html": [
       "<div>\n",
       "<style scoped>\n",
       "    .dataframe tbody tr th:only-of-type {\n",
       "        vertical-align: middle;\n",
       "    }\n",
       "\n",
       "    .dataframe tbody tr th {\n",
       "        vertical-align: top;\n",
       "    }\n",
       "\n",
       "    .dataframe thead th {\n",
       "        text-align: right;\n",
       "    }\n",
       "</style>\n",
       "<table border=\"1\" class=\"dataframe\">\n",
       "  <thead>\n",
       "    <tr style=\"text-align: right;\">\n",
       "      <th></th>\n",
       "      <th>id</th>\n",
       "      <th>battery_power</th>\n",
       "      <th>blue</th>\n",
       "      <th>clock_speed</th>\n",
       "      <th>dual_sim</th>\n",
       "      <th>fc</th>\n",
       "      <th>four_g</th>\n",
       "      <th>int_memory</th>\n",
       "      <th>m_dep</th>\n",
       "      <th>mobile_wt</th>\n",
       "      <th>...</th>\n",
       "      <th>pc</th>\n",
       "      <th>px_height</th>\n",
       "      <th>px_width</th>\n",
       "      <th>ram</th>\n",
       "      <th>sc_h</th>\n",
       "      <th>sc_w</th>\n",
       "      <th>talk_time</th>\n",
       "      <th>three_g</th>\n",
       "      <th>touch_screen</th>\n",
       "      <th>wifi</th>\n",
       "    </tr>\n",
       "  </thead>\n",
       "  <tbody>\n",
       "    <tr>\n",
       "      <th>0</th>\n",
       "      <td>1</td>\n",
       "      <td>1043</td>\n",
       "      <td>1</td>\n",
       "      <td>1.8</td>\n",
       "      <td>1</td>\n",
       "      <td>14</td>\n",
       "      <td>0</td>\n",
       "      <td>5</td>\n",
       "      <td>0.1</td>\n",
       "      <td>193</td>\n",
       "      <td>...</td>\n",
       "      <td>16</td>\n",
       "      <td>226</td>\n",
       "      <td>1412</td>\n",
       "      <td>3476</td>\n",
       "      <td>12</td>\n",
       "      <td>7</td>\n",
       "      <td>2</td>\n",
       "      <td>0</td>\n",
       "      <td>1</td>\n",
       "      <td>0</td>\n",
       "    </tr>\n",
       "    <tr>\n",
       "      <th>1</th>\n",
       "      <td>2</td>\n",
       "      <td>841</td>\n",
       "      <td>1</td>\n",
       "      <td>0.5</td>\n",
       "      <td>1</td>\n",
       "      <td>4</td>\n",
       "      <td>1</td>\n",
       "      <td>61</td>\n",
       "      <td>0.8</td>\n",
       "      <td>191</td>\n",
       "      <td>...</td>\n",
       "      <td>12</td>\n",
       "      <td>746</td>\n",
       "      <td>857</td>\n",
       "      <td>3895</td>\n",
       "      <td>6</td>\n",
       "      <td>0</td>\n",
       "      <td>7</td>\n",
       "      <td>1</td>\n",
       "      <td>0</td>\n",
       "      <td>0</td>\n",
       "    </tr>\n",
       "    <tr>\n",
       "      <th>2</th>\n",
       "      <td>3</td>\n",
       "      <td>1807</td>\n",
       "      <td>1</td>\n",
       "      <td>2.8</td>\n",
       "      <td>0</td>\n",
       "      <td>1</td>\n",
       "      <td>0</td>\n",
       "      <td>27</td>\n",
       "      <td>0.9</td>\n",
       "      <td>186</td>\n",
       "      <td>...</td>\n",
       "      <td>4</td>\n",
       "      <td>1270</td>\n",
       "      <td>1366</td>\n",
       "      <td>2396</td>\n",
       "      <td>17</td>\n",
       "      <td>10</td>\n",
       "      <td>10</td>\n",
       "      <td>0</td>\n",
       "      <td>1</td>\n",
       "      <td>1</td>\n",
       "    </tr>\n",
       "    <tr>\n",
       "      <th>3</th>\n",
       "      <td>4</td>\n",
       "      <td>1546</td>\n",
       "      <td>0</td>\n",
       "      <td>0.5</td>\n",
       "      <td>1</td>\n",
       "      <td>18</td>\n",
       "      <td>1</td>\n",
       "      <td>25</td>\n",
       "      <td>0.5</td>\n",
       "      <td>96</td>\n",
       "      <td>...</td>\n",
       "      <td>20</td>\n",
       "      <td>295</td>\n",
       "      <td>1752</td>\n",
       "      <td>3893</td>\n",
       "      <td>10</td>\n",
       "      <td>0</td>\n",
       "      <td>7</td>\n",
       "      <td>1</td>\n",
       "      <td>1</td>\n",
       "      <td>0</td>\n",
       "    </tr>\n",
       "    <tr>\n",
       "      <th>4</th>\n",
       "      <td>5</td>\n",
       "      <td>1434</td>\n",
       "      <td>0</td>\n",
       "      <td>1.4</td>\n",
       "      <td>0</td>\n",
       "      <td>11</td>\n",
       "      <td>1</td>\n",
       "      <td>49</td>\n",
       "      <td>0.5</td>\n",
       "      <td>108</td>\n",
       "      <td>...</td>\n",
       "      <td>18</td>\n",
       "      <td>749</td>\n",
       "      <td>810</td>\n",
       "      <td>1773</td>\n",
       "      <td>15</td>\n",
       "      <td>8</td>\n",
       "      <td>7</td>\n",
       "      <td>1</td>\n",
       "      <td>0</td>\n",
       "      <td>1</td>\n",
       "    </tr>\n",
       "  </tbody>\n",
       "</table>\n",
       "<p>5 rows × 21 columns</p>\n",
       "</div>"
      ],
      "text/plain": [
       "   id  battery_power  blue  clock_speed  dual_sim  fc  four_g  int_memory  \\\n",
       "0   1           1043     1          1.8         1  14       0           5   \n",
       "1   2            841     1          0.5         1   4       1          61   \n",
       "2   3           1807     1          2.8         0   1       0          27   \n",
       "3   4           1546     0          0.5         1  18       1          25   \n",
       "4   5           1434     0          1.4         0  11       1          49   \n",
       "\n",
       "   m_dep  mobile_wt  ...  pc  px_height  px_width   ram  sc_h  sc_w  \\\n",
       "0    0.1        193  ...  16        226      1412  3476    12     7   \n",
       "1    0.8        191  ...  12        746       857  3895     6     0   \n",
       "2    0.9        186  ...   4       1270      1366  2396    17    10   \n",
       "3    0.5         96  ...  20        295      1752  3893    10     0   \n",
       "4    0.5        108  ...  18        749       810  1773    15     8   \n",
       "\n",
       "   talk_time  three_g  touch_screen  wifi  \n",
       "0          2        0             1     0  \n",
       "1          7        1             0     0  \n",
       "2         10        0             1     1  \n",
       "3          7        1             1     0  \n",
       "4          7        1             0     1  \n",
       "\n",
       "[5 rows x 21 columns]"
      ]
     },
     "execution_count": 40,
     "metadata": {},
     "output_type": "execute_result"
    }
   ],
   "source": [
    "mobtest.head()"
   ]
  },
  {
   "cell_type": "markdown",
   "id": "fd7e15a5",
   "metadata": {},
   "source": [
    "Now in this data, there's no price range column, so we're going to predict the price range from our model"
   ]
  },
  {
   "cell_type": "code",
   "execution_count": 41,
   "id": "d92eb1ca",
   "metadata": {},
   "outputs": [],
   "source": [
    "mobtest2 = mobtest.loc[:,X_train.columns].copy()"
   ]
  },
  {
   "cell_type": "code",
   "execution_count": 42,
   "id": "6773cd71",
   "metadata": {},
   "outputs": [],
   "source": [
    "mobtest2_pred = reg_bm.predict(mobtest2)"
   ]
  },
  {
   "cell_type": "code",
   "execution_count": 43,
   "id": "57ec31ef",
   "metadata": {},
   "outputs": [
    {
     "data": {
      "text/plain": [
       "<AxesSubplot:ylabel='Frequency'>"
      ]
     },
     "execution_count": 43,
     "metadata": {},
     "output_type": "execute_result"
    },
    {
     "data": {
      "image/png": "[encoded data removed]",
      "text/plain": [
       "<Figure size 432x288 with 1 Axes>"
      ]
     },
     "metadata": {
      "needs_background": "light"
     },
     "output_type": "display_data"
    }
   ],
   "source": [
    "pd.Series(mobtest2_pred, name='pred_price_range').plot(kind='hist')"
   ]
  },
  {
   "cell_type": "code",
   "execution_count": 44,
   "id": "2b5b8c9e",
   "metadata": {},
   "outputs": [
    {
     "data": {
      "text/plain": [
       "<AxesSubplot:ylabel='Frequency'>"
      ]
     },
     "execution_count": 44,
     "metadata": {},
     "output_type": "execute_result"
    },
    {
     "data": {
      "image/png": "[encoded data removed]",
      "text/plain": [
       "<Figure size 432x288 with 1 Axes>"
      ]
     },
     "metadata": {
      "needs_background": "light"
     },
     "output_type": "display_data"
    }
   ],
   "source": [
    "#Now the rounded data version\n",
    "pd.Series(np.round(mobtest2_pred,0), name='pred_price_range').plot(kind='hist')"
   ]
  },
  {
   "cell_type": "markdown",
   "id": "a821a401",
   "metadata": {},
   "source": [
    "## KBQ2: Does a machine learning model for regression provide better results?\n",
    "\n",
    "Yes, compared to Deep Learning for regression, regular machine learning models can proivde better predicitons.  "
   ]
  },
  {
   "cell_type": "markdown",
   "id": "8f6390be",
   "metadata": {},
   "source": [
    "# CONCLUSION"
   ]
  },
  {
   "cell_type": "markdown",
   "id": "c424f8b8",
   "metadata": {},
   "source": [
    "We create a model to test what could best predict the price range with a regression model, followed up the model with a rounded estimates evaluation to see if the model could be robust and found that Random Forest provided the best results.  While DEep Learning can do a lot of work, it still has a lot of work to do to improve in regression.  We then took the best model to predict the price ranges for a new unlabled set to prove the potential of the model for foward prediction"
   ]
  },
  {
   "cell_type": "code",
   "execution_count": null,
   "id": "bd8eff89",
   "metadata": {},
   "outputs": [],
   "source": []
  }
 ],
 "metadata": {
  "kernelspec": {
   "display_name": "Python 3 (ipykernel)",
   "language": "python",
   "name": "python3"
  },
  "language_info": {
   "codemirror_mode": {
    "name": "ipython",
    "version": 3
   },
   "file_extension": ".py",
   "mimetype": "text/x-python",
   "name": "python",
   "nbconvert_exporter": "python",
   "pygments_lexer": "ipython3",
   "version": "3.7.13"
  }
 },
 "nbformat": 4,
 "nbformat_minor": 5
}
